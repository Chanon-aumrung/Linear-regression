{
  "nbformat": 4,
  "nbformat_minor": 0,
  "metadata": {
    "colab": {
      "name": "Untitled15.ipynb",
      "provenance": [],
      "authorship_tag": "ABX9TyNRvQZNu8+t6QSyNtikcM8c",
      "include_colab_link": true
    },
    "kernelspec": {
      "name": "python3",
      "display_name": "Python 3"
    }
  },
  "cells": [
    {
      "cell_type": "markdown",
      "metadata": {
        "id": "view-in-github",
        "colab_type": "text"
      },
      "source": [
        "<a href=\"https://colab.research.google.com/github/Chanon-aumrung/Linear-regression/blob/master/sorting%20type%20code.ipynb\" target=\"_parent\"><img src=\"https://colab.research.google.com/assets/colab-badge.svg\" alt=\"Open In Colab\"/></a>"
      ]
    },
    {
      "cell_type": "code",
      "metadata": {
        "id": "44b8Gw3JVGQF",
        "colab_type": "code",
        "colab": {
          "base_uri": "https://localhost:8080/",
          "height": 34
        },
        "outputId": "dc80a68e-2f9a-40e4-ff68-d2bb73a72c0e"
      },
      "source": [
        "def selection_sort(L):\n",
        "    sortedList = []\n",
        "    for i in range(len(L)):\n",
        "        sortedList.append(min(L))\n",
        "        L.remove(min(L))\n",
        "        print(L)\n",
        "    return sortedList\n",
        "\n",
        "L = [0, 3, 9, 1, 34, 25, 1]\n",
        "print(L)"
      ],
      "execution_count": 10,
      "outputs": [
        {
          "output_type": "stream",
          "text": [
            "[0, 3, 9, 1, 34, 25, 1]\n"
          ],
          "name": "stdout"
        }
      ]
    },
    {
      "cell_type": "code",
      "metadata": {
        "id": "s9P2knCtVb_C",
        "colab_type": "code",
        "colab": {
          "base_uri": "https://localhost:8080/",
          "height": 168
        },
        "outputId": "5c3c1da0-70e5-46d4-f042-c86046682a94"
      },
      "source": [
        "def selection_sort(L):\n",
        "  for i in range(0,len(L)):\n",
        "    min_index = L[i:].index(min(L[i:]))\n",
        "    L[i], L[min_index+i] = L[min_index+i], L[i]\n",
        "    print(L)\n",
        "\n",
        "L = [33, 1, 41, 5, 2, 53, 1]\n",
        "print(L)\n",
        "selection_sort(L)\n",
        "print(L)"
      ],
      "execution_count": 7,
      "outputs": [
        {
          "output_type": "stream",
          "text": [
            "[33, 1, 41, 5, 2, 53, 1]\n",
            "[1, 33, 41, 5, 2, 53, 1]\n",
            "[1, 1, 41, 5, 2, 53, 33]\n",
            "[1, 1, 2, 5, 41, 53, 33]\n",
            "[1, 1, 2, 5, 41, 53, 33]\n",
            "[1, 1, 2, 5, 33, 53, 41]\n",
            "[1, 1, 2, 5, 33, 41, 53]\n",
            "[1, 1, 2, 5, 33, 41, 53]\n",
            "[1, 1, 2, 5, 33, 41, 53]\n"
          ],
          "name": "stdout"
        }
      ]
    },
    {
      "cell_type": "code",
      "metadata": {
        "id": "SWYoUuNfWoNl",
        "colab_type": "code",
        "colab": {
          "base_uri": "https://localhost:8080/",
          "height": 151
        },
        "outputId": "4e71d85c-4013-4543-8b3e-24ef2134ae54"
      },
      "source": [
        "def Bubble_sort(L):\n",
        "  for i in range(len(L)):\n",
        "    for j in range(len(L[:-i])):\n",
        "      if L[j] > L[j+1]:\n",
        "        L[j], L[j+1] = L[j+1], L[j]\n",
        "    print(L)\n",
        "  return L\n",
        "\n",
        "L = [30, 12, 5, 81, 4, 4,]\n",
        "\n",
        "print(L)\n",
        "print(Bubble_sort(L))"
      ],
      "execution_count": 9,
      "outputs": [
        {
          "output_type": "stream",
          "text": [
            "[30, 12, 5, 81, 4, 4]\n",
            "[30, 12, 5, 81, 4, 4]\n",
            "[12, 5, 30, 4, 4, 81]\n",
            "[5, 12, 4, 4, 30, 81]\n",
            "[5, 4, 4, 12, 30, 81]\n",
            "[4, 4, 5, 12, 30, 81]\n",
            "[4, 4, 5, 12, 30, 81]\n",
            "[4, 4, 5, 12, 30, 81]\n"
          ],
          "name": "stdout"
        }
      ]
    },
    {
      "cell_type": "code",
      "metadata": {
        "id": "wKgeIxDwXp5j",
        "colab_type": "code",
        "colab": {
          "base_uri": "https://localhost:8080/",
          "height": 34
        },
        "outputId": "dfd1c3c6-eb4c-4bd7-c43d-3ace9ae24165"
      },
     
          "name": "stdout"
        }
      ]
    }
  ]
}
